{
  "cells": [
    {
      "cell_type": "markdown",
      "metadata": {
        "id": "view-in-github",
        "colab_type": "text"
      },
      "source": [
        "<a href=\"https://colab.research.google.com/github/wwtghx/tutorials/blob/main/_downloads/fe726e041160526cf828806536922cf6/modelsyt_tutorial.ipynb\" target=\"_parent\"><img src=\"https://colab.research.google.com/assets/colab-badge.svg\" alt=\"Open In Colab\"/></a>"
      ]
    },
    {
      "cell_type": "code",
      "execution_count": 12,
      "metadata": {
        "id": "fdQ9TKPdgIOw"
      },
      "outputs": [],
      "source": [
        "# For tips on running notebooks in Google Colab, see\n",
        "# https://pytorch.org/tutorials/beginner/colab\n",
        "%matplotlib inline"
      ]
    },
    {
      "cell_type": "markdown",
      "metadata": {
        "id": "gBMAlIRJgIOx"
      },
      "source": [
        "[Introduction](introyt1_tutorial.html) \\|\\|\n",
        "[Tensors](tensors_deeper_tutorial.html) \\|\\|\n",
        "[Autograd](autogradyt_tutorial.html) \\|\\| **Building Models** \\|\\|\n",
        "[TensorBoard Support](tensorboardyt_tutorial.html) \\|\\| [Training\n",
        "Models](trainingyt.html) \\|\\| [Model Understanding](captumyt.html)\n",
        "\n",
        "Building Models with PyTorch\n",
        "============================\n",
        "\n",
        "Follow along with the video below or on\n",
        "[youtube](https://www.youtube.com/watch?v=OSqIP-mOWOI).\n",
        "\n"
      ]
    },
    {
      "cell_type": "code",
      "execution_count": 13,
      "metadata": {
        "id": "0592be5f",
        "outputId": "f433c522-10b9-4f46-e9ee-d4fdb25c4b92",
        "colab": {
          "base_uri": "https://localhost:8080/",
          "height": 356
        }
      },
      "outputs": [
        {
          "output_type": "display_data",
          "data": {
            "text/plain": [
              "<IPython.core.display.HTML object>"
            ],
            "text/html": [
              "\n",
              "<div style=\"margin-top:10px; margin-bottom:10px;\">\n",
              "  <iframe width=\"560\" height=\"315\" src=\"https://www.youtube.com/embed/OSqIP-mOWOI\" frameborder=\"0\" allow=\"accelerometer; encrypted-media; gyroscope; picture-in-picture\" allowfullscreen></iframe>\n",
              "</div>\n"
            ]
          },
          "metadata": {}
        }
      ],
      "source": [
        "# Run this cell to load the video\n",
        "from IPython.display import display, HTML\n",
        "html_code = \"\"\"\n",
        "<div style=\"margin-top:10px; margin-bottom:10px;\">\n",
        "  <iframe width=\"560\" height=\"315\" src=\"https://www.youtube.com/embed/OSqIP-mOWOI\" frameborder=\"0\" allow=\"accelerometer; encrypted-media; gyroscope; picture-in-picture\" allowfullscreen></iframe>\n",
        "</div>\n",
        "\"\"\"\n",
        "display(HTML(html_code))"
      ]
    },
    {
      "cell_type": "markdown",
      "metadata": {
        "id": "dcfa06ad"
      },
      "source": [
        "\n",
        "\n",
        "`torch.nn.Module` and `torch.nn.Parameter`\n",
        "------------------------------------------\n",
        "\n",
        "In this video, we'll be discussing some of the tools PyTorch makes\n",
        "available for building deep learning networks.\n",
        "\n",
        "Except for `Parameter`, the classes we discuss in this video are all\n",
        "subclasses of `torch.nn.Module`. This is the PyTorch base class meant to\n",
        "encapsulate behaviors specific to PyTorch Models and their components.\n",
        "\n",
        "One important behavior of `torch.nn.Module` is registering parameters.\n",
        "If a particular `Module` subclass has learning weights, these weights\n",
        "are expressed as instances of `torch.nn.Parameter`. The `Parameter`\n",
        "class is a subclass of `torch.Tensor`, with the special behavior that\n",
        "when they are assigned as attributes of a `Module`, they are added to\n",
        "the list of that modules parameters. These parameters may be accessed\n",
        "through the `parameters()` method on the `Module` class.\n",
        "\n",
        "As a simple example, here's a very simple model with two linear layers\n",
        "and an activation function. We'll create an instance of it and ask it to\n",
        "report on its parameters:\n"
      ]
    },
    {
      "cell_type": "code",
      "execution_count": 14,
      "metadata": {
        "id": "q10NdNI5gIO1",
        "outputId": "5db39745-77e1-4a61-f9ea-8c189b8a5798",
        "colab": {
          "base_uri": "https://localhost:8080/"
        }
      },
      "outputs": [
        {
          "output_type": "stream",
          "name": "stdout",
          "text": [
            "The model:\n",
            "TinyModel(\n",
            "  (linear1): Linear(in_features=100, out_features=200, bias=True)\n",
            "  (activation): ReLU()\n",
            "  (linear2): Linear(in_features=200, out_features=10, bias=True)\n",
            "  (softmax): Softmax(dim=None)\n",
            ")\n",
            "\n",
            "\n",
            "Just one layer:\n",
            "Linear(in_features=200, out_features=10, bias=True)\n",
            "\n",
            "\n",
            "Model params:\n",
            "Parameter containing:\n",
            "tensor([[ 0.0901, -0.0194, -0.0654,  ..., -0.0756,  0.0928, -0.0896],\n",
            "        [-0.0870, -0.0595, -0.0263,  ..., -0.0097, -0.0984, -0.0332],\n",
            "        [-0.0280, -0.0876, -0.0080,  ...,  0.0908, -0.0036, -0.0848],\n",
            "        ...,\n",
            "        [ 0.0260, -0.0261, -0.0172,  ...,  0.0689, -0.0950, -0.0768],\n",
            "        [-0.0779,  0.0299,  0.0472,  ..., -0.0438,  0.0780,  0.0950],\n",
            "        [ 0.0751,  0.0576, -0.0376,  ...,  0.0377,  0.0922,  0.0296]],\n",
            "       requires_grad=True)\n",
            "Parameter containing:\n",
            "tensor([ 0.0743,  0.0657, -0.0090,  0.0533,  0.0637,  0.0234, -0.0883,  0.0895,\n",
            "        -0.0849, -0.0315, -0.0284,  0.0278, -0.0224,  0.0709, -0.0627,  0.0958,\n",
            "         0.0181, -0.0521, -0.0724, -0.0235, -0.0761,  0.0149, -0.0951,  0.0818,\n",
            "         0.0571,  0.0461,  0.0129,  0.0979, -0.0180,  0.0032, -0.0452,  0.0882,\n",
            "        -0.0740,  0.0804,  0.0823,  0.0376,  0.0966,  0.0309, -0.0042,  0.0687,\n",
            "        -0.0031, -0.0369,  0.0898,  0.0896,  0.0948,  0.0983,  0.0839, -0.0268,\n",
            "        -0.0291,  0.0161, -0.0441, -0.0465, -0.0845, -0.0971, -0.0749,  0.0793,\n",
            "         0.0972,  0.0432, -0.0684,  0.0756, -0.0574, -0.0326, -0.0417,  0.0727,\n",
            "         0.0369,  0.0915,  0.0208, -0.0319, -0.0643,  0.0850, -0.0616,  0.0656,\n",
            "        -0.0118, -0.0604,  0.0994, -0.0842,  0.0517,  0.0314,  0.0615,  0.0255,\n",
            "         0.0161,  0.0571,  0.0096,  0.0185, -0.0002,  0.0799, -0.0055,  0.0284,\n",
            "        -0.0157,  0.0572, -0.0906, -0.0978, -0.0543, -0.0361, -0.0814,  0.0110,\n",
            "        -0.0974,  0.0598, -0.0061, -0.0696,  0.0159,  0.0585,  0.0909, -0.0585,\n",
            "        -0.0213, -0.0385,  0.0993, -0.0217, -0.0957, -0.0148,  0.0464,  0.0410,\n",
            "         0.0608,  0.0895, -0.0233,  0.0485, -0.0873, -0.0609, -0.0098,  0.0900,\n",
            "         0.0955,  0.0956, -0.0615,  0.0042, -0.0844, -0.0906, -0.0572,  0.0709,\n",
            "        -0.0846,  0.0645, -0.0555, -0.0306, -0.0954,  0.0147,  0.0729, -0.0777,\n",
            "         0.0650,  0.0323, -0.0273,  0.0319,  0.0756, -0.0976,  0.0998, -0.0648,\n",
            "        -0.0054, -0.0234,  0.0736,  0.0455, -0.0529, -0.0268, -0.0857,  0.0464,\n",
            "         0.0424, -0.0395, -0.0248, -0.0629,  0.0868, -0.0985,  0.0864,  0.0618,\n",
            "        -0.0963,  0.0441,  0.0391, -0.0135, -0.0535, -0.0289, -0.0513,  0.0156,\n",
            "        -0.0221, -0.0767, -0.0779,  0.0714, -0.0014, -0.0137, -0.0478,  0.0621,\n",
            "        -0.0976,  0.0493, -0.0624,  0.0028,  0.0730, -0.0427, -0.0113,  0.0301,\n",
            "        -0.0973, -0.0204,  0.0859,  0.0879,  0.0406, -0.0065, -0.0501,  0.0343,\n",
            "        -0.0117,  0.0220,  0.0492, -0.0135, -0.0572, -0.0827,  0.0233,  0.0614],\n",
            "       requires_grad=True)\n",
            "Parameter containing:\n",
            "tensor([[-5.2584e-03,  2.7528e-02,  9.5957e-03,  ..., -4.0079e-02,\n",
            "         -6.9990e-02, -2.4615e-02],\n",
            "        [-9.4842e-04,  5.7896e-02,  2.5100e-04,  ...,  2.8605e-02,\n",
            "          1.2865e-02,  5.6025e-02],\n",
            "        [ 2.7854e-02, -3.6510e-02, -3.3366e-02,  ..., -5.8439e-02,\n",
            "          5.1634e-02, -2.0728e-02],\n",
            "        ...,\n",
            "        [ 6.8286e-02, -4.4713e-02, -2.4210e-02,  ...,  5.9187e-02,\n",
            "         -6.8944e-05, -3.5715e-02],\n",
            "        [-2.1047e-02, -5.4494e-02, -1.9710e-02,  ...,  2.9440e-02,\n",
            "          3.4042e-02,  5.1823e-02],\n",
            "        [ 2.1900e-02,  6.5246e-02,  2.5527e-02,  ...,  3.9107e-02,\n",
            "          4.6017e-02, -2.4793e-02]], requires_grad=True)\n",
            "Parameter containing:\n",
            "tensor([ 0.0233, -0.0685, -0.0607, -0.0540,  0.0308,  0.0466,  0.0415, -0.0199,\n",
            "        -0.0465,  0.0227], requires_grad=True)\n",
            "\n",
            "\n",
            "Layer params:\n",
            "Parameter containing:\n",
            "tensor([[-5.2584e-03,  2.7528e-02,  9.5957e-03,  ..., -4.0079e-02,\n",
            "         -6.9990e-02, -2.4615e-02],\n",
            "        [-9.4842e-04,  5.7896e-02,  2.5100e-04,  ...,  2.8605e-02,\n",
            "          1.2865e-02,  5.6025e-02],\n",
            "        [ 2.7854e-02, -3.6510e-02, -3.3366e-02,  ..., -5.8439e-02,\n",
            "          5.1634e-02, -2.0728e-02],\n",
            "        ...,\n",
            "        [ 6.8286e-02, -4.4713e-02, -2.4210e-02,  ...,  5.9187e-02,\n",
            "         -6.8944e-05, -3.5715e-02],\n",
            "        [-2.1047e-02, -5.4494e-02, -1.9710e-02,  ...,  2.9440e-02,\n",
            "          3.4042e-02,  5.1823e-02],\n",
            "        [ 2.1900e-02,  6.5246e-02,  2.5527e-02,  ...,  3.9107e-02,\n",
            "          4.6017e-02, -2.4793e-02]], requires_grad=True)\n",
            "Parameter containing:\n",
            "tensor([ 0.0233, -0.0685, -0.0607, -0.0540,  0.0308,  0.0466,  0.0415, -0.0199,\n",
            "        -0.0465,  0.0227], requires_grad=True)\n"
          ]
        }
      ],
      "source": [
        "import torch\n",
        "\n",
        "class TinyModel(torch.nn.Module):\n",
        "\n",
        "    def __init__(self):\n",
        "        super(TinyModel, self).__init__()\n",
        "\n",
        "        self.linear1 = torch.nn.Linear(100, 200)\n",
        "        self.activation = torch.nn.ReLU()\n",
        "        self.linear2 = torch.nn.Linear(200, 10)\n",
        "        self.softmax = torch.nn.Softmax()\n",
        "\n",
        "    def forward(self, x):\n",
        "        x = self.linear1(x)\n",
        "        x = self.activation(x)\n",
        "        x = self.linear2(x)\n",
        "        x = self.softmax(x)\n",
        "        return x\n",
        "\n",
        "tinymodel = TinyModel()\n",
        "\n",
        "print('The model:')\n",
        "print(tinymodel)\n",
        "\n",
        "print('\\n\\nJust one layer:')\n",
        "print(tinymodel.linear2)\n",
        "\n",
        "print('\\n\\nModel params:')\n",
        "for param in tinymodel.parameters():\n",
        "    print(param)\n",
        "\n",
        "print('\\n\\nLayer params:')\n",
        "for param in tinymodel.linear2.parameters():\n",
        "    print(param)"
      ]
    },
    {
      "cell_type": "markdown",
      "metadata": {
        "id": "acq1no5VgIO1"
      },
      "source": [
        "This shows the fundamental structure of a PyTorch model: there is an\n",
        "`__init__()` method that defines the layers and other components of a\n",
        "model, and a `forward()` method where the computation gets done. Note\n",
        "that we can print the model, or any of its submodules, to learn about\n",
        "its structure.\n",
        "\n",
        "Common Layer Types\n",
        "==================\n",
        "\n",
        "Linear Layers\n",
        "-------------\n",
        "\n",
        "The most basic type of neural network layer is a *linear* or *fully\n",
        "connected* layer. This is a layer where every input influences every\n",
        "output of the layer to a degree specified by the layer's weights. If a\n",
        "model has *m* inputs and *n* outputs, the weights will be an *m* x *n*\n",
        "matrix. For example:\n"
      ]
    },
    {
      "cell_type": "code",
      "execution_count": 15,
      "metadata": {
        "id": "wKI4K1NDgIO2",
        "outputId": "528a1e20-794b-4559-fb98-1336eb0c5060",
        "colab": {
          "base_uri": "https://localhost:8080/"
        }
      },
      "outputs": [
        {
          "output_type": "stream",
          "name": "stdout",
          "text": [
            "Input:\n",
            "tensor([[0.4420, 0.9890, 0.0193]])\n",
            "\n",
            "\n",
            "Weight and Bias parameters:\n",
            "Parameter containing:\n",
            "tensor([[-0.0853, -0.2717,  0.5113],\n",
            "        [-0.4753,  0.2070, -0.1687]], requires_grad=True)\n",
            "Parameter containing:\n",
            "tensor([0.2531, 0.2512], requires_grad=True)\n",
            "\n",
            "\n",
            "Output:\n",
            "tensor([[-0.0434,  0.2426]], grad_fn=<AddmmBackward0>)\n"
          ]
        }
      ],
      "source": [
        "lin = torch.nn.Linear(3, 2)\n",
        "x = torch.rand(1, 3)\n",
        "print('Input:')\n",
        "print(x)\n",
        "\n",
        "print('\\n\\nWeight and Bias parameters:')\n",
        "for param in lin.parameters():\n",
        "    print(param)\n",
        "\n",
        "y = lin(x)\n",
        "print('\\n\\nOutput:')\n",
        "print(y)"
      ]
    },
    {
      "cell_type": "code",
      "source": [],
      "metadata": {
        "id": "IroGlPAvzkLK"
      },
      "execution_count": null,
      "outputs": []
    },
    {
      "cell_type": "code",
      "source": [],
      "metadata": {
        "id": "1r1xfHpKzrwp"
      },
      "execution_count": null,
      "outputs": []
    },
    {
      "cell_type": "markdown",
      "metadata": {
        "id": "iTJu6KYtgIO3"
      },
      "source": [
        "If you do the matrix multiplication of `x` by the linear layer's\n",
        "weights, and add the biases, you'll find that you get the output vector\n",
        "`y`.\n",
        "\n",
        "One other important feature to note: When we checked the weights of our\n",
        "layer with `lin.weight`, it reported itself as a `Parameter` (which is a\n",
        "subclass of `Tensor`), and let us know that it's tracking gradients with\n",
        "autograd. This is a default behavior for `Parameter` that differs from\n",
        "`Tensor`.\n",
        "\n",
        "Linear layers are used widely in deep learning models. One of the most\n",
        "common places you'll see them is in classifier models, which will\n",
        "usually have one or more linear layers at the end, where the last layer\n",
        "will have *n* outputs, where *n* is the number of classes the classifier\n",
        "addresses.\n",
        "\n",
        "Convolutional Layers\n",
        "====================\n",
        "\n",
        "*Convolutional* layers are built to handle data with a high degree of\n",
        "spatial correlation. They are very commonly used in computer vision,\n",
        "where they detect close groupings of features which the compose into\n",
        "higher-level features. They pop up in other contexts too - for example,\n",
        "in NLP applications, where a word's immediate context (that is, the\n",
        "other words nearby in the sequence) can affect the meaning of a\n",
        "sentence.\n",
        "\n",
        "We saw convolutional layers in action in LeNet5 in an earlier video:\n"
      ]
    },
    {
      "cell_type": "code",
      "execution_count": 16,
      "metadata": {
        "id": "WG2bRiOTgIO3"
      },
      "outputs": [],
      "source": [
        "import torch.functional as F\n",
        "\n",
        "\n",
        "class LeNet(torch.nn.Module):\n",
        "\n",
        "    def __init__(self):\n",
        "        super(LeNet, self).__init__()\n",
        "        # 1 input image channel (black & white), 6 output channels, 5x5 square convolution\n",
        "        # kernel\n",
        "        self.conv1 = torch.nn.Conv2d(1, 6, 5)\n",
        "        self.conv2 = torch.nn.Conv2d(6, 16, 3)\n",
        "        # an affine operation: y = Wx + b\n",
        "        self.fc1 = torch.nn.Linear(16 * 6 * 6, 120)  # 6*6 from image dimension\n",
        "        self.fc2 = torch.nn.Linear(120, 84)\n",
        "        self.fc3 = torch.nn.Linear(84, 10)\n",
        "\n",
        "    def forward(self, x):\n",
        "        # Max pooling over a (2, 2) window\n",
        "        x = F.max_pool2d(F.relu(self.conv1(x)), (2, 2))\n",
        "        # If the size is a square you can only specify a single number\n",
        "        x = F.max_pool2d(F.relu(self.conv2(x)), 2)\n",
        "        x = x.view(-1, self.num_flat_features(x))\n",
        "        x = F.relu(self.fc1(x))\n",
        "        x = F.relu(self.fc2(x))\n",
        "        x = self.fc3(x)\n",
        "        return x\n",
        "\n",
        "    def num_flat_features(self, x):\n",
        "        size = x.size()[1:]  # all dimensions except the batch dimension\n",
        "        num_features = 1\n",
        "        for s in size:\n",
        "            num_features *= s\n",
        "        return num_features"
      ]
    },
    {
      "cell_type": "markdown",
      "metadata": {
        "id": "etURJAQZgIO4"
      },
      "source": [
        "Let's break down what's happening in the convolutional layers of this\n",
        "model. Starting with `conv1`:\n",
        "\n",
        "-   LeNet5 is meant to take in a 1x32x32 black & white image. **The\n",
        "    first argument to a convolutional layer's constructor is the number\n",
        "    of input channels.** Here, it is 1. If we were building this model\n",
        "    to look at 3-color channels, it would be 3.\n",
        "-   A convolutional layer is like a window that scans over the image,\n",
        "    looking for a pattern it recognizes. These patterns are called\n",
        "    *features,* and one of the parameters of a convolutional layer is\n",
        "    the number of features we would like it to learn. **This is the\n",
        "    second argument to the constructor is the number of output\n",
        "    features.** Here, we're asking our layer to learn 6 features.\n",
        "-   Just above, I likened the convolutional layer to a window - but how\n",
        "    big is the window? **The third argument is the window or kernel\n",
        "    size.** Here, the \"5\" means we've chosen a 5x5 kernel. (If you want\n",
        "    a kernel with height different from width, you can specify a tuple\n",
        "    for this argument - e.g., `(3, 5)` to get a 3x5 convolution kernel.)\n",
        "\n",
        "The output of a convolutional layer is an *activation map* - a spatial\n",
        "representation of the presence of features in the input tensor. `conv1`\n",
        "will give us an output tensor of 6x28x28; 6 is the number of features,\n",
        "and 28 is the height and width of our map. (The 28 comes from the fact\n",
        "that when scanning a 5-pixel window over a 32-pixel row, there are only\n",
        "28 valid positions.)\n",
        "\n",
        "We then pass the output of the convolution through a ReLU activation\n",
        "function (more on activation functions later), then through a max\n",
        "pooling layer. The max pooling layer takes features near each other in\n",
        "the activation map and groups them together. It does this by reducing\n",
        "the tensor, merging every 2x2 group of cells in the output into a single\n",
        "cell, and assigning that cell the maximum value of the 4 cells that went\n",
        "into it. This gives us a lower-resolution version of the activation map,\n",
        "with dimensions 6x14x14.\n",
        "\n",
        "Our next convolutional layer, `conv2`, expects 6 input channels\n",
        "(corresponding to the 6 features sought by the first layer), has 16\n",
        "output channels, and a 3x3 kernel. It puts out a 16x12x12 activation\n",
        "map, which is again reduced by a max pooling layer to 16x6x6. Prior to\n",
        "passing this output to the linear layers, it is reshaped to a 16 \\* 6 \\*\n",
        "6 = 576-element vector for consumption by the next layer.\n",
        "\n",
        "There are convolutional layers for addressing 1D, 2D, and 3D tensors.\n",
        "There are also many more optional arguments for a conv layer\n",
        "constructor, including stride length(e.g., only scanning every second or\n",
        "every third position) in the input, padding (so you can scan out to the\n",
        "edges of the input), and more. See the\n",
        "[documentation](https://pytorch.org/docs/stable/nn.html#convolution-layers)\n",
        "for more information.\n",
        "\n",
        "Recurrent Layers\n",
        "================\n",
        "\n",
        "*Recurrent neural networks* (or *RNNs)* are used for sequential data\n",
        "-anything from time-series measurements from a scientific instrument to\n",
        "natural language sentences to DNA nucleotides. An RNN does this by\n",
        "maintaining a *hidden state* that acts as a sort of memory for what it\n",
        "has seen in the sequence so far.\n",
        "\n",
        "The internal structure of an RNN layer - or its variants, the LSTM (long\n",
        "short-term memory) and GRU (gated recurrent unit) - is moderately\n",
        "complex and beyond the scope of this video, but we'll show you what one\n",
        "looks like in action with an LSTM-based part-of-speech tagger (a type of\n",
        "classifier that tells you if a word is a noun, verb, etc.):\n"
      ]
    },
    {
      "cell_type": "code",
      "execution_count": 17,
      "metadata": {
        "id": "InKx_qhMgIO4"
      },
      "outputs": [],
      "source": [
        "class LSTMTagger(torch.nn.Module):\n",
        "\n",
        "    def __init__(self, embedding_dim, hidden_dim, vocab_size, tagset_size):\n",
        "        super(LSTMTagger, self).__init__()\n",
        "        self.hidden_dim = hidden_dim\n",
        "\n",
        "        self.word_embeddings = torch.nn.Embedding(vocab_size, embedding_dim)\n",
        "\n",
        "        # The LSTM takes word embeddings as inputs, and outputs hidden states\n",
        "        # with dimensionality hidden_dim.\n",
        "        self.lstm = torch.nn.LSTM(embedding_dim, hidden_dim)\n",
        "\n",
        "        # The linear layer that maps from hidden state space to tag space\n",
        "        self.hidden2tag = torch.nn.Linear(hidden_dim, tagset_size)\n",
        "\n",
        "    def forward(self, sentence):\n",
        "        embeds = self.word_embeddings(sentence)\n",
        "        lstm_out, _ = self.lstm(embeds.view(len(sentence), 1, -1))\n",
        "        tag_space = self.hidden2tag(lstm_out.view(len(sentence), -1))\n",
        "        tag_scores = F.log_softmax(tag_space, dim=1)\n",
        "        return tag_scores"
      ]
    },
    {
      "cell_type": "markdown",
      "metadata": {
        "id": "3kGunXk8gIO5"
      },
      "source": [
        "The constructor has four arguments:\n",
        "\n",
        "-   `vocab_size` is the number of words in the input vocabulary. Each\n",
        "    word is a one-hot vector (or unit vector) in a\n",
        "    `vocab_size`-dimensional space.\n",
        "-   `tagset_size` is the number of tags in the output set.\n",
        "-   `embedding_dim` is the size of the *embedding* space for the\n",
        "    vocabulary. An embedding maps a vocabulary onto a low-dimensional\n",
        "    space, where words with similar meanings are close together in the\n",
        "    space.\n",
        "-   `hidden_dim` is the size of the LSTM's memory.\n",
        "\n",
        "The input will be a sentence with the words represented as indices of\n",
        "one-hot vectors. The embedding layer will then map these down to an\n",
        "`embedding_dim`-dimensional space. The LSTM takes this sequence of\n",
        "embeddings and iterates over it, fielding an output vector of length\n",
        "`hidden_dim`. The final linear layer acts as a classifier; applying\n",
        "`log_softmax()` to the output of the final layer converts the output\n",
        "into a normalized set of estimated probabilities that a given word maps\n",
        "to a given tag.\n",
        "\n",
        "If you'd like to see this network in action, check out the [Sequence\n",
        "Models and LSTM\n",
        "Networks](https://pytorch.org/tutorials/beginner/nlp/sequence_models_tutorial.html)\n",
        "tutorial on pytorch.org.\n",
        "\n",
        "Transformers\n",
        "============\n",
        "\n",
        "*Transformers* are multi-purpose networks that have taken over the state\n",
        "of the art in NLP with models like BERT. A discussion of transformer\n",
        "architecture is beyond the scope of this video, but PyTorch has a\n",
        "`Transformer` class that allows you to define the overall parameters of\n",
        "a transformer model - the number of attention heads, the number of\n",
        "encoder & decoder layers, dropout and activation functions, etc. (You\n",
        "can even build the BERT model from this single class, with the right\n",
        "parameters!) The `torch.nn.Transformer` class also has classes to\n",
        "encapsulate the individual components (`TransformerEncoder`,\n",
        "`TransformerDecoder`) and subcomponents (`TransformerEncoderLayer`,\n",
        "`TransformerDecoderLayer`). For details, check out the\n",
        "[documentation](https://pytorch.org/docs/stable/nn.html#transformer-layers)\n",
        "on transformer classes, and the relevant\n",
        "[tutorial](https://pytorch.org/tutorials/beginner/transformer_tutorial.html)\n",
        "on pytorch.org.\n",
        "\n",
        "Other Layers and Functions\n",
        "--------------------------\n",
        "\n",
        "Data Manipulation Layers\n",
        "========================\n",
        "\n",
        "There are other layer types that perform important functions in models,\n",
        "but don't participate in the learning process themselves.\n",
        "\n",
        "**Max pooling** (and its twin, min pooling) reduce a tensor by combining\n",
        "cells, and assigning the maximum value of the input cells to the output\n",
        "cell (we saw this). For example:\n"
      ]
    },
    {
      "cell_type": "code",
      "execution_count": 18,
      "metadata": {
        "id": "xNFJz7LwgIO5",
        "outputId": "5c929a46-be89-4851-b514-5b1bdec78fb5",
        "colab": {
          "base_uri": "https://localhost:8080/"
        }
      },
      "outputs": [
        {
          "output_type": "stream",
          "name": "stdout",
          "text": [
            "tensor([[[0.0849, 0.4825, 0.8474, 0.4904, 0.8726, 0.2314],\n",
            "         [0.5800, 0.8350, 0.7195, 0.5215, 0.0406, 0.2790],\n",
            "         [0.2000, 0.6672, 0.3433, 0.4118, 0.0109, 0.5085],\n",
            "         [0.2821, 0.5657, 0.0979, 0.7755, 0.4358, 0.2312],\n",
            "         [0.1350, 0.0827, 0.3982, 0.2980, 0.4874, 0.6153],\n",
            "         [0.5378, 0.2580, 0.8895, 0.2084, 0.9897, 0.6077]]])\n",
            "tensor([[[0.8474, 0.8726],\n",
            "         [0.8895, 0.9897]]])\n"
          ]
        }
      ],
      "source": [
        "my_tensor = torch.rand(1, 6, 6)\n",
        "print(my_tensor)\n",
        "\n",
        "maxpool_layer = torch.nn.MaxPool2d(3)\n",
        "print(maxpool_layer(my_tensor))"
      ]
    },
    {
      "cell_type": "markdown",
      "metadata": {
        "id": "Oc5Wt9QpgIO5"
      },
      "source": [
        "If you look closely at the values above, you'll see that each of the\n",
        "values in the maxpooled output is the maximum value of each quadrant of\n",
        "the 6x6 input.\n",
        "\n",
        "**Normalization layers** re-center and normalize the output of one layer\n",
        "before feeding it to another. Centering and scaling the intermediate\n",
        "tensors has a number of beneficial effects, such as letting you use\n",
        "higher learning rates without exploding/vanishing gradients.\n"
      ]
    },
    {
      "cell_type": "code",
      "execution_count": 19,
      "metadata": {
        "id": "uze1woLGgIO6",
        "outputId": "77b19ec5-a57c-4346-9d1c-a6c2cd85b930",
        "colab": {
          "base_uri": "https://localhost:8080/"
        }
      },
      "outputs": [
        {
          "output_type": "stream",
          "name": "stdout",
          "text": [
            "tensor([[[ 6.3991, 22.9933, 14.7575,  6.6109],\n",
            "         [18.1625, 12.5111, 17.7082,  5.9882],\n",
            "         [ 9.7346, 12.9524,  6.7198, 14.8159],\n",
            "         [13.8037, 19.9349, 16.4436, 23.8696]]])\n",
            "tensor(13.9628)\n",
            "tensor([[[-0.9202,  1.5070,  0.3024, -0.8892],\n",
            "         [ 0.9289, -0.2198,  0.8366, -1.5456],\n",
            "         [-0.4270,  0.6131, -1.4016,  1.2155],\n",
            "         [-1.2456,  0.3761, -0.5474,  1.4168]]],\n",
            "       grad_fn=<NativeBatchNormBackward0>)\n",
            "tensor(-5.0291e-08, grad_fn=<MeanBackward0>)\n"
          ]
        }
      ],
      "source": [
        "my_tensor = torch.rand(1, 4, 4) * 20 + 5\n",
        "print(my_tensor)\n",
        "\n",
        "print(my_tensor.mean())\n",
        "\n",
        "norm_layer = torch.nn.BatchNorm1d(4)\n",
        "normed_tensor = norm_layer(my_tensor)\n",
        "print(normed_tensor)\n",
        "\n",
        "print(normed_tensor.mean())"
      ]
    },
    {
      "cell_type": "markdown",
      "metadata": {
        "id": "eRhO2aJMgIO6"
      },
      "source": [
        "Running the cell above, we've added a large scaling factor and offset to\n",
        "an input tensor; you should see the input tensor's `mean()` somewhere in\n",
        "the neighborhood of 15. After running it through the normalization\n",
        "layer, you can see that the values are smaller, and grouped around zero\n",
        "- in fact, the mean should be very small (\\> 1e-8).\n",
        "\n",
        "This is beneficial because many activation functions (discussed below)\n",
        "have their strongest gradients near 0, but sometimes suffer from\n",
        "vanishing or exploding gradients for inputs that drive them far away\n",
        "from zero. Keeping the data centered around the area of steepest\n",
        "gradient will tend to mean faster, better learning and higher feasible\n",
        "learning rates.\n",
        "\n",
        "**Dropout layers** are a tool for encouraging *sparse representations*\n",
        "in your model - that is, pushing it to do inference with less data.\n",
        "\n",
        "Dropout layers work by randomly setting parts of the input tensor\n",
        "*during training* - dropout layers are always turned off for inference.\n",
        "This forces the model to learn against this masked or reduced dataset.\n",
        "For example:\n"
      ]
    },
    {
      "cell_type": "code",
      "execution_count": 20,
      "metadata": {
        "id": "DJTrmEn0gIO6",
        "outputId": "af27eee1-beeb-41c0-9753-6688f1219038",
        "colab": {
          "base_uri": "https://localhost:8080/"
        }
      },
      "outputs": [
        {
          "output_type": "stream",
          "name": "stdout",
          "text": [
            "tensor([[[1.3230, 0.3878, 0.0000, 0.0000],\n",
            "         [1.1540, 0.2009, 1.3858, 1.6314],\n",
            "         [1.6015, 0.9653, 0.5678, 0.1072],\n",
            "         [1.5749, 0.0000, 0.8691, 0.0000]]])\n",
            "tensor([[[1.3230, 0.3878, 1.2775, 0.3072],\n",
            "         [1.1540, 0.2009, 1.3858, 1.6314],\n",
            "         [0.0000, 0.0000, 0.5678, 0.0000],\n",
            "         [1.5749, 0.3846, 0.8691, 1.5023]]])\n"
          ]
        }
      ],
      "source": [
        "my_tensor = torch.rand(1, 4, 4)\n",
        "\n",
        "dropout = torch.nn.Dropout(p=0.4)\n",
        "print(dropout(my_tensor))\n",
        "print(dropout(my_tensor))"
      ]
    },
    {
      "cell_type": "markdown",
      "metadata": {
        "id": "Jz6kMPtqgIO6"
      },
      "source": [
        "Above, you can see the effect of dropout on a sample tensor. You can use\n",
        "the optional `p` argument to set the probability of an individual weight\n",
        "dropping out; if you don't it defaults to 0.5.\n",
        "\n",
        "Activation Functions\n",
        "====================\n",
        "\n",
        "Activation functions make deep learning possible. A neural network is\n",
        "really a program - with many parameters - that *simulates a mathematical\n",
        "function*. If all we did was multiple tensors by layer weights\n",
        "repeatedly, we could only simulate *linear functions;* further, there\n",
        "would be no point to having many layers, as the whole network would\n",
        "reduce could be reduced to a single matrix multiplication. Inserting\n",
        "*non-linear* activation functions between layers is what allows a deep\n",
        "learning model to simulate any function, rather than just linear ones.\n",
        "\n",
        "`torch.nn.Module` has objects encapsulating all of the major activation\n",
        "functions including ReLU and its many variants, Tanh, Hardtanh, sigmoid,\n",
        "and more. It also includes other functions, such as Softmax, that are\n",
        "most useful at the output stage of a model.\n",
        "\n",
        "Loss Functions\n",
        "==============\n",
        "\n",
        "Loss functions tell us how far a model's prediction is from the correct\n",
        "answer. PyTorch contains a variety of loss functions, including common\n",
        "MSE (mean squared error = L2 norm), Cross Entropy Loss and Negative\n",
        "Likelihood Loss (useful for classifiers), and others.\n"
      ]
    }
  ],
  "metadata": {
    "kernelspec": {
      "display_name": "Python 3",
      "language": "python",
      "name": "python3"
    },
    "language_info": {
      "codemirror_mode": {
        "name": "ipython",
        "version": 3
      },
      "file_extension": ".py",
      "mimetype": "text/x-python",
      "name": "python",
      "nbconvert_exporter": "python",
      "pygments_lexer": "ipython3",
      "version": "3.10.14"
    },
    "colab": {
      "provenance": [],
      "include_colab_link": true
    }
  },
  "nbformat": 4,
  "nbformat_minor": 0
}